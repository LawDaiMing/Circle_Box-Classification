{
 "cells": [
  {
   "cell_type": "code",
   "execution_count": 1,
   "metadata": {},
   "outputs": [],
   "source": [
    "from sklearn.neighbors import KNeighborsClassifier\n",
    "from sklearn.metrics import accuracy_score\n",
    "from sklearn.metrics import classification_report"
   ]
  },
  {
   "cell_type": "code",
   "execution_count": 2,
   "metadata": {},
   "outputs": [],
   "source": [
    "import time\n",
    "import psutil"
   ]
  },
  {
   "cell_type": "code",
   "execution_count": 3,
   "metadata": {
    "scrolled": true
   },
   "outputs": [],
   "source": [
    "import glob\n",
    "\n",
    "import math\n",
    "\n",
    "import numpy as np\n",
    "from numpy import genfromtxt\n",
    "\n",
    "import imageio\n",
    "from PIL import Image\n",
    "\n",
    "%matplotlib inline\n",
    "import matplotlib\n",
    "from matplotlib import pyplot as plt\n",
    "\n",
    "import pandas as pd\n",
    "\n",
    "import os"
   ]
  },
  {
   "cell_type": "code",
   "execution_count": 4,
   "metadata": {},
   "outputs": [],
   "source": [
    "#Load and read box csv\n",
    "\n",
    "#Change the directory for the following codes\n",
    "#os.chdir(\"csv directory of each class 1 of box csv\")\n",
    "os.chdir(r\"C:\\AStar_FYP\\Circle_Box\\box\\le-10-wi-10-ma-1000\")\n",
    "\n",
    "#Read each csv in the directory with similar names of name-[number].csv to call out all csv for i is 0-99\n",
    "#Do not read the first row of csv as header \n",
    "#Read all csv as numpy array\n",
    "#for i = 0-99\n",
    "    #data1= (read_csv function(name-{number}.csv, dont read first row as header))\n",
    "    #dataB1= convert to numpy array function(data1)\n",
    "         \n",
    "for i in range(100):\n",
    "    data1=(pd.read_csv(f'box-{i}.csv', header= None))\n",
    "    dataB1=np.array(data1)   \n",
    "\n",
    "#Load Class 2 box csv\n",
    "\n",
    "os.chdir(r\"C:\\AStar_FYP\\Circle_Box\\box\\le-10-wi-10-ma-2000\")\n",
    "\n",
    "for i in range(100):\n",
    "    data2=(pd.read_csv(f'box-{i}.csv', header= None))\n",
    "    dataB2=np.array(data2)\n",
    "\n",
    "#Load Class 3 box csv\n",
    "\n",
    "os.chdir(r\"C:\\AStar_FYP\\Circle_Box\\box\\le-15-wi-15-ma-1000\")\n",
    "\n",
    "for i in range(100):\n",
    "    data3=(pd.read_csv(f'box-{i}.csv',header= None))\n",
    "    dataB3=np.array(data3)"
   ]
  },
  {
   "cell_type": "code",
   "execution_count": 5,
   "metadata": {},
   "outputs": [],
   "source": [
    "#Load csv of circles similar to box's csv\n",
    "#Load Class 1 circle csv\n",
    "\n",
    "os.chdir(r\"C:\\AStar_FYP\\Circle_Box\\circle\\ri-9.8-ro-10.0-ma-1000\")\n",
    "\n",
    "for i in range(100):\n",
    "    data4=(pd.read_csv(f'circle-{i}.csv', header= None))\n",
    "    dataC1=np.array(data4)\n",
    "\n",
    "#Load Class 2 circle csv\n",
    "\n",
    "os.chdir(r\"C:\\AStar_FYP\\Circle_Box\\circle\\ri-9.8-ro-10.0-ma-2000\")\n",
    "\n",
    "for i in range(100):\n",
    "    data5=(pd.read_csv(f'circle-{i}.csv', header= None))\n",
    "    dataC2=np.array(data5)\n",
    "\n",
    "#Load Class 3 circle csv\n",
    "\n",
    "os.chdir(r\"C:\\AStar_FYP\\Circle_Box\\circle\\ri-14.8-ro-15.0-ma-1000\")\n",
    "\n",
    "for i in range(100):\n",
    "    data6=(pd.read_csv(f'circle-{i}.csv', header= None))\n",
    "    dataC3=np.array(data6)"
   ]
  },
  {
   "cell_type": "code",
   "execution_count": 7,
   "metadata": {},
   "outputs": [
    {
     "name": "stdout",
     "output_type": "stream",
     "text": [
      "(100,)\n"
     ]
    }
   ],
   "source": [
    "#Define Labels that can be use to define each class of 100 csv files \n",
    "#Label of box class 1,2,3= number 1,2,3. Label of circle class 1,2,3= number 4,5,6\n",
    "#Label with array numbers of one = Class B1, Label with array numbers of two = Class B2 ... until class C3 \n",
    "#Label B1 = numpy array with 100 ones \n",
    "#Label B2= numpy array with 100 twos\n",
    "#... until label C3\n",
    "\n",
    "labelB1 = np.ones((100,))\n",
    "labelB2 = (np.ones((100))+1)\n",
    "labelB3 = (np.ones((100))+2)\n",
    "labelC1 = (np.ones((100))+3)\n",
    "labelC2 = (np.ones((100))+4)\n",
    "labelC3 = (np.ones((100))+5)\n",
    "\n",
    "#Full_labels = np.concatenate((label1,label2,label3,label4,label5,label6))\n",
    "print(labelB1.shape)"
   ]
  },
  {
   "cell_type": "code",
   "execution_count": 11,
   "metadata": {
    "scrolled": true
   },
   "outputs": [
    {
     "name": "stdout",
     "output_type": "stream",
     "text": [
      "(1, 3072)\n",
      "(1, 3072)\n",
      "(1, 3072)\n",
      "(1, 3072)\n",
      "(1, 3072)\n",
      "(1, 3072)\n",
      "(1, 3072)\n",
      "(1, 3072)\n",
      "(1, 3072)\n",
      "(1, 3072)\n",
      "(1, 3072)\n",
      "(1, 3072)\n",
      "(1, 3072)\n",
      "(1, 3072)\n",
      "(1, 3072)\n",
      "(1, 3072)\n",
      "(1, 3072)\n",
      "(1, 3072)\n",
      "(1, 3072)\n",
      "(1, 3072)\n",
      "(1, 3072)\n",
      "(1, 3072)\n",
      "(1, 3072)\n",
      "(1, 3072)\n",
      "(1, 3072)\n",
      "(1, 3072)\n",
      "(1, 3072)\n",
      "(1, 3072)\n",
      "(1, 3072)\n",
      "(1, 3072)\n",
      "(1, 3072)\n",
      "(1, 3072)\n",
      "(1, 3072)\n",
      "(1, 3072)\n",
      "(1, 3072)\n",
      "(1, 3072)\n",
      "(1, 3072)\n",
      "(1, 3072)\n",
      "(1, 3072)\n",
      "(1, 3072)\n",
      "(1, 3072)\n",
      "(1, 3072)\n",
      "(1, 3072)\n",
      "(1, 3072)\n",
      "(1, 3072)\n",
      "(1, 3072)\n",
      "(1, 3072)\n",
      "(1, 3072)\n",
      "(1, 3072)\n",
      "(1, 3072)\n",
      "(1, 3072)\n",
      "(1, 3072)\n",
      "(1, 3072)\n",
      "(1, 3072)\n",
      "(1, 3072)\n",
      "(1, 3072)\n",
      "(1, 3072)\n",
      "(1, 3072)\n",
      "(1, 3072)\n",
      "(1, 3072)\n",
      "(1, 3072)\n",
      "(1, 3072)\n",
      "(1, 3072)\n",
      "(1, 3072)\n",
      "(1, 3072)\n",
      "(1, 3072)\n",
      "(1, 3072)\n",
      "(1, 3072)\n",
      "(1, 3072)\n",
      "(1, 3072)\n",
      "(1, 3072)\n",
      "(1, 3072)\n",
      "(1, 3072)\n",
      "(1, 3072)\n",
      "(1, 3072)\n",
      "(1, 3072)\n",
      "(1, 3072)\n",
      "(1, 3072)\n",
      "(1, 3072)\n",
      "(1, 3072)\n",
      "(1, 3072)\n",
      "(1, 3072)\n",
      "(1, 3072)\n",
      "(1, 3072)\n",
      "(1, 3072)\n",
      "(1, 3072)\n",
      "(1, 3072)\n",
      "(1, 3072)\n",
      "(1, 3072)\n",
      "(1, 3072)\n",
      "(1, 3072)\n",
      "(1, 3072)\n",
      "(1, 3072)\n",
      "(1, 3072)\n",
      "(1, 3072)\n",
      "(1, 3072)\n",
      "(1, 3072)\n",
      "(1, 3072)\n",
      "(1, 3072)\n",
      "(1, 3072)\n"
     ]
    }
   ],
   "source": [
    "#Reshape each csv of each class into shape (1,3072)\n",
    "#Combine the 100 csv of each class into the shape of (100,3072) in order to be able to compare with the each class label\n",
    "\n",
    "for i in range(100):\n",
    "    Train_B1=np.reshape(dataB1,(1,3072))\n",
    "    print(Rshp.shape)"
   ]
  },
  {
   "cell_type": "code",
   "execution_count": 13,
   "metadata": {},
   "outputs": [
    {
     "name": "stdout",
     "output_type": "stream",
     "text": [
      "Train model\n"
     ]
    },
    {
     "ename": "ValueError",
     "evalue": "Found input variables with inconsistent numbers of samples: [1, 49]",
     "output_type": "error",
     "traceback": [
      "\u001b[1;31m---------------------------------------------------------------------------\u001b[0m",
      "\u001b[1;31mValueError\u001b[0m                                Traceback (most recent call last)",
      "\u001b[1;32m<ipython-input-13-95482ef08c0f>\u001b[0m in \u001b[0;36m<module>\u001b[1;34m\u001b[0m\n\u001b[0;32m     12\u001b[0m \u001b[1;33m\u001b[0m\u001b[0m\n\u001b[0;32m     13\u001b[0m \u001b[1;32mfor\u001b[0m \u001b[0mi\u001b[0m \u001b[1;32min\u001b[0m \u001b[0mrange\u001b[0m \u001b[1;33m(\u001b[0m\u001b[1;36m1\u001b[0m\u001b[1;33m,\u001b[0m\u001b[1;36m50\u001b[0m\u001b[1;33m)\u001b[0m\u001b[1;33m:\u001b[0m\u001b[1;33m\u001b[0m\u001b[1;33m\u001b[0m\u001b[0m\n\u001b[1;32m---> 14\u001b[1;33m     \u001b[0mclf\u001b[0m\u001b[1;33m.\u001b[0m\u001b[0mfit\u001b[0m\u001b[1;33m(\u001b[0m\u001b[0mtrain_x\u001b[0m\u001b[1;33m,\u001b[0m \u001b[0mtrain_y\u001b[0m\u001b[1;33m)\u001b[0m\u001b[1;33m\u001b[0m\u001b[1;33m\u001b[0m\u001b[0m\n\u001b[0m\u001b[0;32m     15\u001b[0m     \u001b[0mCPU_Usage_Train\u001b[0m\u001b[1;33m=\u001b[0m \u001b[0mpsutil\u001b[0m\u001b[1;33m.\u001b[0m\u001b[0mcpu_percent\u001b[0m\u001b[1;33m(\u001b[0m\u001b[1;33m)\u001b[0m\u001b[1;33m\u001b[0m\u001b[1;33m\u001b[0m\u001b[0m\n\u001b[0;32m     16\u001b[0m     \u001b[0mtime_elapsed_train\u001b[0m\u001b[1;33m=\u001b[0m \u001b[1;33m(\u001b[0m\u001b[0mtime\u001b[0m\u001b[1;33m.\u001b[0m\u001b[0mperf_counter\u001b[0m\u001b[1;33m(\u001b[0m\u001b[1;33m)\u001b[0m\u001b[1;33m-\u001b[0m\u001b[0mtime_start_train\u001b[0m\u001b[1;33m)\u001b[0m\u001b[1;33m\u001b[0m\u001b[1;33m\u001b[0m\u001b[0m\n",
      "\u001b[1;32m~\\Anaconda3\\lib\\site-packages\\sklearn\\neighbors\\_base.py\u001b[0m in \u001b[0;36mfit\u001b[1;34m(self, X, y)\u001b[0m\n\u001b[0;32m   1124\u001b[0m         \"\"\"\n\u001b[0;32m   1125\u001b[0m         \u001b[1;32mif\u001b[0m \u001b[1;32mnot\u001b[0m \u001b[0misinstance\u001b[0m\u001b[1;33m(\u001b[0m\u001b[0mX\u001b[0m\u001b[1;33m,\u001b[0m \u001b[1;33m(\u001b[0m\u001b[0mKDTree\u001b[0m\u001b[1;33m,\u001b[0m \u001b[0mBallTree\u001b[0m\u001b[1;33m)\u001b[0m\u001b[1;33m)\u001b[0m\u001b[1;33m:\u001b[0m\u001b[1;33m\u001b[0m\u001b[1;33m\u001b[0m\u001b[0m\n\u001b[1;32m-> 1126\u001b[1;33m             \u001b[0mX\u001b[0m\u001b[1;33m,\u001b[0m \u001b[0my\u001b[0m \u001b[1;33m=\u001b[0m \u001b[0mcheck_X_y\u001b[0m\u001b[1;33m(\u001b[0m\u001b[0mX\u001b[0m\u001b[1;33m,\u001b[0m \u001b[0my\u001b[0m\u001b[1;33m,\u001b[0m \u001b[1;34m\"csr\"\u001b[0m\u001b[1;33m,\u001b[0m \u001b[0mmulti_output\u001b[0m\u001b[1;33m=\u001b[0m\u001b[1;32mTrue\u001b[0m\u001b[1;33m)\u001b[0m\u001b[1;33m\u001b[0m\u001b[1;33m\u001b[0m\u001b[0m\n\u001b[0m\u001b[0;32m   1127\u001b[0m \u001b[1;33m\u001b[0m\u001b[0m\n\u001b[0;32m   1128\u001b[0m         \u001b[1;32mif\u001b[0m \u001b[0my\u001b[0m\u001b[1;33m.\u001b[0m\u001b[0mndim\u001b[0m \u001b[1;33m==\u001b[0m \u001b[1;36m1\u001b[0m \u001b[1;32mor\u001b[0m \u001b[0my\u001b[0m\u001b[1;33m.\u001b[0m\u001b[0mndim\u001b[0m \u001b[1;33m==\u001b[0m \u001b[1;36m2\u001b[0m \u001b[1;32mand\u001b[0m \u001b[0my\u001b[0m\u001b[1;33m.\u001b[0m\u001b[0mshape\u001b[0m\u001b[1;33m[\u001b[0m\u001b[1;36m1\u001b[0m\u001b[1;33m]\u001b[0m \u001b[1;33m==\u001b[0m \u001b[1;36m1\u001b[0m\u001b[1;33m:\u001b[0m\u001b[1;33m\u001b[0m\u001b[1;33m\u001b[0m\u001b[0m\n",
      "\u001b[1;32m~\\Anaconda3\\lib\\site-packages\\sklearn\\utils\\validation.py\u001b[0m in \u001b[0;36mcheck_X_y\u001b[1;34m(X, y, accept_sparse, accept_large_sparse, dtype, order, copy, force_all_finite, ensure_2d, allow_nd, multi_output, ensure_min_samples, ensure_min_features, y_numeric, warn_on_dtype, estimator)\u001b[0m\n\u001b[0;32m    763\u001b[0m         \u001b[0my\u001b[0m \u001b[1;33m=\u001b[0m \u001b[0my\u001b[0m\u001b[1;33m.\u001b[0m\u001b[0mastype\u001b[0m\u001b[1;33m(\u001b[0m\u001b[0mnp\u001b[0m\u001b[1;33m.\u001b[0m\u001b[0mfloat64\u001b[0m\u001b[1;33m)\u001b[0m\u001b[1;33m\u001b[0m\u001b[1;33m\u001b[0m\u001b[0m\n\u001b[0;32m    764\u001b[0m \u001b[1;33m\u001b[0m\u001b[0m\n\u001b[1;32m--> 765\u001b[1;33m     \u001b[0mcheck_consistent_length\u001b[0m\u001b[1;33m(\u001b[0m\u001b[0mX\u001b[0m\u001b[1;33m,\u001b[0m \u001b[0my\u001b[0m\u001b[1;33m)\u001b[0m\u001b[1;33m\u001b[0m\u001b[1;33m\u001b[0m\u001b[0m\n\u001b[0m\u001b[0;32m    766\u001b[0m \u001b[1;33m\u001b[0m\u001b[0m\n\u001b[0;32m    767\u001b[0m     \u001b[1;32mreturn\u001b[0m \u001b[0mX\u001b[0m\u001b[1;33m,\u001b[0m \u001b[0my\u001b[0m\u001b[1;33m\u001b[0m\u001b[1;33m\u001b[0m\u001b[0m\n",
      "\u001b[1;32m~\\Anaconda3\\lib\\site-packages\\sklearn\\utils\\validation.py\u001b[0m in \u001b[0;36mcheck_consistent_length\u001b[1;34m(*arrays)\u001b[0m\n\u001b[0;32m    210\u001b[0m     \u001b[1;32mif\u001b[0m \u001b[0mlen\u001b[0m\u001b[1;33m(\u001b[0m\u001b[0muniques\u001b[0m\u001b[1;33m)\u001b[0m \u001b[1;33m>\u001b[0m \u001b[1;36m1\u001b[0m\u001b[1;33m:\u001b[0m\u001b[1;33m\u001b[0m\u001b[1;33m\u001b[0m\u001b[0m\n\u001b[0;32m    211\u001b[0m         raise ValueError(\"Found input variables with inconsistent numbers of\"\n\u001b[1;32m--> 212\u001b[1;33m                          \" samples: %r\" % [int(l) for l in lengths])\n\u001b[0m\u001b[0;32m    213\u001b[0m \u001b[1;33m\u001b[0m\u001b[0m\n\u001b[0;32m    214\u001b[0m \u001b[1;33m\u001b[0m\u001b[0m\n",
      "\u001b[1;31mValueError\u001b[0m: Found input variables with inconsistent numbers of samples: [1, 49]"
     ]
    }
   ],
   "source": [
    "#Fitting the dataset into the classification algorithm \n",
    "\n",
    "time_start_train = time.perf_counter()\n",
    "\n",
    "clf=KNeighborsClassifier()\n",
    "\n",
    "for i in range(1,50):\n",
    "    train_x = Train_B1\n",
    "    train_y = labelB1[:i]\n",
    "\n",
    "print(\"Train model\")\n",
    "\n",
    "for i in range (1,50):\n",
    "    clf.fit(train_x, train_y)\n",
    "    CPU_Usage_Train= psutil.cpu_percent()\n",
    "    time_elapsed_train= (time.perf_counter()-time_start_train)\n",
    "  \n",
    "\n",
    "print('Train time:',\"%2.1f secs\"%time_elapsed_train)\n",
    "print('Training CPU Usage',\"%2.1f Percent\"%CPU_Usage_Train)"
   ]
  },
  {
   "cell_type": "code",
   "execution_count": null,
   "metadata": {},
   "outputs": [],
   "source": [
    "#Predict the data without the label\n",
    "\n",
    "for i in range(60,100):\n",
    "    test_x = dataB1\n",
    "    expected = label1\n",
    "    predicted = clf.predict(test_x)\n",
    "    CPU_Usage_Test= psutil.cpu_percent()\n",
    "    \n",
    "print(\"Compute predictions\")\n",
    "\n",
    "time_test = time.perf_counter()\n",
    "test_elapsed_time= (time_test-time_elapsed_train)\n",
    "print('Test time:',\"%2.1f secs\"%(test_elapsed_time))\n",
    "print('Testing CPU Usage:',\"%2.1f Percent\"%CPU_Usage_Test)"
   ]
  }
 ],
 "metadata": {
  "kernelspec": {
   "display_name": "Python 3",
   "language": "python",
   "name": "python3"
  },
  "language_info": {
   "codemirror_mode": {
    "name": "ipython",
    "version": 3
   },
   "file_extension": ".py",
   "mimetype": "text/x-python",
   "name": "python",
   "nbconvert_exporter": "python",
   "pygments_lexer": "ipython3",
   "version": "3.7.4"
  }
 },
 "nbformat": 4,
 "nbformat_minor": 2
}
